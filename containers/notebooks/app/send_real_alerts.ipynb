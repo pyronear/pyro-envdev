{
 "cells": [
  {
   "cell_type": "code",
   "execution_count": null,
   "metadata": {},
   "outputs": [],
   "source": [
    "import ast\n",
    "import pandas as pd\n",
    "from dotenv import load_dotenv\n",
    "import os\n",
    "from api import get_token, get_camera_token\n",
    "from pyroclient import Client\n",
    "import glob\n",
    "from PIL import Image\n",
    "import numpy as np\n",
    "import io\n",
    "import itertools\n",
    "import requests\n",
    "import random\n",
    "import shutil\n",
    "from utils import dl_seqs_from_url, read_pred_file, send_triangulated_alerts\n",
    "import time"
   ]
  },
  {
   "cell_type": "code",
   "execution_count": null,
   "metadata": {},
   "outputs": [],
   "source": [
    "API_URL = \"http://api:5050\"\n",
    "load_dotenv(\"../.env\")\n",
    "SUPERADMIN_LOGIN = os.environ.get(\"SUPERADMIN_LOGIN\")\n",
    "SUPERADMIN_PWD = os.environ.get(\"SUPERADMIN_PWD\")\n",
    "\n",
    "# Get access token\n",
    "admin_access_token = get_token(API_URL, SUPERADMIN_LOGIN, SUPERADMIN_PWD)\n"
   ]
  },
  {
   "cell_type": "code",
   "execution_count": null,
   "metadata": {},
   "outputs": [],
   "source": [
    "users = pd.read_csv(\"../data/csv/API_DATA_DEV - users.csv\")\n",
    "cameras = pd.read_csv(\"../data/csv/API_DATA_DEV - cameras.csv\")\n",
    "users"
   ]
  },
  {
   "cell_type": "code",
   "execution_count": null,
   "metadata": {},
   "outputs": [],
   "source": [
    "cameras"
   ]
  },
  {
   "cell_type": "markdown",
   "metadata": {},
   "source": [
    "## Send some random alerts sequences from a list of cameras\n",
    "Download a file containing relevant images and predictions, then send alerts to selected cameras (with a random azimuth and random imgs picked from the alerts folder downloaded below)."
   ]
  },
  {
   "cell_type": "code",
   "execution_count": null,
   "metadata": {},
   "outputs": [],
   "source": [
    "send_alert_from_cam_ids = [2, 4, 5, 14] # select cameras"
   ]
  },
  {
   "cell_type": "code",
   "execution_count": null,
   "metadata": {},
   "outputs": [],
   "source": [
    "SAMPLE_PATH = \"selection-true-positives\"\n",
    "url = \"https://github.com/pyronear/pyro-envdev/releases/download/v0.0.1/selection-true-positives.zip\"\n",
    "\n",
    "if not os.path.isdir(SAMPLE_PATH):\n",
    "    print(\"Images not found, dowloading ...\")\n",
    "    \n",
    "    os.makedirs(SAMPLE_PATH, exist_ok=True)\n",
    "    dl_seqs_from_url(url, SAMPLE_PATH)\n",
    "else:\n",
    "    print(f\"SAMPLE_PATH {SAMPLE_PATH} directory exists, assume alerts inside, no download\")"
   ]
  },
  {
   "cell_type": "code",
   "execution_count": null,
   "metadata": {},
   "outputs": [],
   "source": [
    "sequances_folders = glob.glob(f\"{SAMPLE_PATH}/*\")\n",
    "\n",
    "for camera_id in send_alert_from_cam_ids:\n",
    "    \n",
    "    camera_token = get_camera_token(API_URL, camera_id, admin_access_token)\n",
    "    camera_client  = Client(camera_token, API_URL)\n",
    "\n",
    "    sequances_folder = sequances_folders[random.randint(0,len(sequances_folders)-1)]\n",
    "    imgs = glob.glob(f\"{sequances_folder}/images/*\")\n",
    "    imgs.sort()\n",
    "    preds = glob.glob(f\"{sequances_folder}/labels_predictions/*\")\n",
    "    preds.sort()\n",
    "    \n",
    "    cam_center_azimuth = random.randint(0,360)\n",
    "    print(f\"Sending alerts from camera {camera_id} at azimuth {cam_center_azimuth}\")\n",
    "    for img_file, pred_file in zip(imgs, preds):\n",
    "    \n",
    "        stream = io.BytesIO()\n",
    "        im = Image.open(img_file)\n",
    "        im.save(stream, format=\"JPEG\", quality=80)\n",
    "\n",
    "        bboxes = read_pred_file(pred_file)\n",
    "        response = camera_client.create_detection(stream.getvalue(), cam_center_azimuth, bboxes)\n",
    "        # Force a KeyError if the request failed\n",
    "        \n",
    "        response.json()[\"id\"]"
   ]
  },
  {
   "cell_type": "markdown",
   "metadata": {},
   "source": [
    "## Download alerts sequences\n"
   ]
  },
  {
   "cell_type": "code",
   "execution_count": null,
   "metadata": {},
   "outputs": [],
   "source": [
    "BASE_DIRECTORY = \"../data\"\n",
    "\n",
    "SAMPLE_PATH = \"alert_samples\"\n",
    "url = \"https://github.com/pyronear/pyro-envdev/releases/download/v0.0.1/alert_samples.zip\"\n",
    "\n",
    "if not os.path.isdir(os.path.join(BASE_DIRECTORY, SAMPLE_PATH)):\n",
    "    print(\"Images not found, dowloading ...\")\n",
    "    #os.makedirs(SAMPLE_PATH, exist_ok=True)\n",
    "    dl_seqs_from_url(url, os.path.join(BASE_DIRECTORY, SAMPLE_PATH))\n",
    "else:\n",
    "    print(f\"SAMPLE_PATH {SAMPLE_PATH} directory exists, assume alerts inside, no download\")\n",
    "\n"
   ]
  },
  {
   "cell_type": "markdown",
   "metadata": {},
   "source": [
    "## Send custom alerts sequences\n",
    "\n",
    "The  following code block helps you send some alerts/sequences from a specific diretory containing sequences data\n",
    "\n",
    "- Create a directory with the name you want, ex ```alerts_with_style```\n",
    "- In directory ```../data```or in current dir, there are some alerts folders downloaded\n",
    "- Copy each inteterting alert dir (dir that contains a dir img, and a dir label predictions) and paste them to your ```alerts_with_style``` directory\n",
    "- then below, fill the ```SEQUENCES_DIR_PATH``` with the path to you directory\n",
    "- fill the CAM_MAPPING mapping dict : the first number in alert folder are dict keys that will map with camera id in database :  ex {2:78} -> all alert folder starting with 2 will create alerts for the camera of id 78\n",
    "     - you can find cameras id in the object ```cameras``` (created at the beginning of this notebook), or look in the DB table cameras\n",
    "     - If you put alert dir with prefix number that does not match, no alerts will be created\n",
    "  "
   ]
  },
  {
   "cell_type": "code",
   "execution_count": null,
   "metadata": {},
   "outputs": [],
   "source": [
    "SEQUENCES_DIR_PATH = \"../data/alert_samples/single_sequences/*\"\n",
    "sequences_directories = glob.glob(SEQUENCES_DIR_PATH)\n",
    "CAM_MAPPING = {22:13, 42:7, 59:5, 14:11, 43:8, 79:14, 13:10, 11:15, 59:1, 60:2, 15:12, 12:9, 10:16, 41:2, 65:8}\n",
    "\n",
    "for seq_path in sequences_directories:\n",
    "    \n",
    "    seq_prefix_num = int(seq_path.split(\"/\")[-1].split(\"_\")[0])\n",
    "\n",
    "    if CAM_MAPPING.get(seq_prefix_num) is None:\n",
    "        print(f\" === WARNING the prefix {seq_prefix_num} is not in CAM_MAPPING dict, hence no alerts will be generated (or from random camera but no implemented yet)\")\n",
    "    else:    \n",
    "        camera_id = CAM_MAPPING[seq_prefix_num]\n",
    "        camera_token = get_camera_token(API_URL, camera_id, admin_access_token)\n",
    "        camera_client  = Client(camera_token, API_URL)\n",
    "    \n",
    "        imgs = glob.glob(f\"{seq_path}/images/*\")\n",
    "        imgs.sort()\n",
    "        preds = glob.glob(f\"{seq_path}/labels_predictions/*\")\n",
    "        preds.sort()\n",
    "\n",
    "        cam_center_azimuth = random.randint(0,360)\n",
    "        \n",
    "        print(f\"Sending alerts from camera {camera_id} at azimuth {cam_center_azimuth}\")\n",
    "        for img_file, pred_file in zip(imgs, preds):\n",
    "        \n",
    "            stream = io.BytesIO()\n",
    "            im = Image.open(img_file)\n",
    "            im.save(stream, format=\"JPEG\", quality=80)\n",
    "    \n",
    "            #bboxes = read_pred_file(pred_file)\n",
    "            with open(pred_file, 'r', encoding='utf-8') as file:\n",
    "                bboxes =  ast.literal_eval(file.read())\n",
    "    \n",
    "            #bboxes = np.loadtxt(pred_file, ndmin=2)\n",
    "            response = camera_client.create_detection(stream.getvalue(), cam_center_azimuth, bboxes)\n",
    "            # Force a KeyError if the request failed\n",
    "            #time.sleep(1)\n",
    "            response.json()[\"id\"]"
   ]
  },
  {
   "cell_type": "markdown",
   "metadata": {},
   "source": [
    "## Send 2 sequences that triangulate\n",
    "Download a file containning 2 alerts from 2 cameras that triangulate, then it send alerts to the api. "
   ]
  },
  {
   "cell_type": "code",
   "execution_count": null,
   "metadata": {},
   "outputs": [],
   "source": [
    "if not os.path.isdir(\"triangulated_sequences\"):\n",
    "    print(\"Images not found, dowloading ...\")\n",
    "    output_path = \"triangulated_sequences.zip\"\n",
    "\n",
    "    url = \"https://github.com/pyronear/pyro-envdev/releases/download/v0.0.1/\"+\"triangulated_sequences.zip\"\n",
    "\n",
    "    response = requests.get(url, stream=True)\n",
    "    response.raise_for_status()  # Raises an error for bad status codes\n",
    "\n",
    "    with open(output_path, 'wb') as f:\n",
    "        for chunk in response.iter_content(chunk_size=8192):\n",
    "            f.write(chunk)\n",
    "\n",
    "    zip_path = output_path\n",
    "    extract_dir = \"triangulated_sequences\"  # Current directory\n",
    "\n",
    "    shutil.unpack_archive(zip_path, extract_dir, 'zip')\n",
    "\n",
    "    print(\"Extraction completed.\")\n",
    "\n",
    "cam_triangulation = {\n",
    "    \"12\": {\n",
    "        \"azimuth\": 226,\n",
    "        \"path\": \"triangulated_sequences/brison-03\"\n",
    "    },\n",
    "    \"13\": {\n",
    "        \"azimuth\": 54,\n",
    "        \"path\": \"triangulated_sequences/serre-de-barre-01\"\n",
    "    }\n",
    "}\n",
    "\n",
    "send_triangulated_alerts(cam_triangulation, API_URL, Client, admin_access_token)\n"
   ]
  },
  {
   "cell_type": "markdown",
   "metadata": {},
   "source": [
    "## Send 3 sequences that triangulates, then 2 other sequences that triangulates"
   ]
  },
  {
   "cell_type": "code",
   "execution_count": null,
   "metadata": {},
   "outputs": [],
   "source": [
    "cam_triangulation = {\n",
    "    \"4\": {\n",
    "        \"azimuth\": 163.3878,\n",
    "        \"path\": \"../data/alert_samples/triangulated_sequences/41_croix-augas-02_2025-07-14_12-25-03\"\n",
    "    },\n",
    "    \"8\": {\n",
    "        \"azimuth\": 8.2793,\n",
    "        \"path\": \"../data/alert_samples/triangulated_sequences/65_nemours-02_2025-07-14_11-57-39\"\n",
    "    },\n",
    "    \"5\": {\n",
    "        \"azimuth\": 276.5041,\n",
    "        \"path\": \"../data/alert_samples/triangulated_sequences/66_moret-sur-loing-01_2025-07-14_12-33-39\"\n",
    "    }\n",
    "}\n",
    "\n",
    "\n",
    "send_triangulated_alerts(cam_triangulation, API_URL, Client, admin_access_token)\n",
    "\n",
    "cam_triangulation = {\n",
    "    \"11\": {\n",
    "        \"azimuth\": 163.3878,\n",
    "        \"path\": \"../data/alert_samples/triangulated_sequences/14_brison-03_2025-09-29_14-02-22\"\n",
    "    },\n",
    "    \"13\": {\n",
    "        \"azimuth\": 8.2793,\n",
    "        \"path\": \"../data/alert_samples/triangulated_sequences/22_serre-de-barre-01_2025-09-29_14-23-28\"\n",
    "    }\n",
    "}\n",
    "\n",
    "\n",
    "send_triangulated_alerts(cam_triangulation, API_URL, Client, admin_access_token)"
   ]
  }
 ],
 "metadata": {
  "kernelspec": {
   "display_name": "Python 3 (ipykernel)",
   "language": "python",
   "name": "python3"
  },
  "language_info": {
   "codemirror_mode": {
    "name": "ipython",
    "version": 3
   },
   "file_extension": ".py",
   "mimetype": "text/x-python",
   "name": "python",
   "nbconvert_exporter": "python",
   "pygments_lexer": "ipython3",
   "version": "3.13.7"
  }
 },
 "nbformat": 4,
 "nbformat_minor": 4
}
