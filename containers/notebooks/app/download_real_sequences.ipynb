{
 "cells": [
  {
   "cell_type": "markdown",
   "id": "a1c721ae-469b-48d7-a1df-3cd24623b3ee",
   "metadata": {},
   "source": [
    "# Intro\n",
    "\n",
    "This notebook aims at downloading sequences data(images and bboxes) from a Distant/Real Pyronear Alert API isntance in order to recreate alerts/sequences with ease in local dev environnement\n",
    "\n",
    "You need to have accesses to a distant api and provide ```DISTANT_API_URL```, ```DISTANT_ALERT_API_LOGIN```, ```DISTANT_ALERT_API_PASSWORD```\n",
    "\n",
    "Then, fill ```SEQUENCE_ID_LIST``` with the sequence ids you want in order to download related data (pick api admin credentials if you intend to download alert from various organisation)\n",
    "\n",
    "\n",
    "If you do not have Pyronear Alert API credentials from above, do not worry, you can use the notebook \"send_real_alerts\" to send some alerts to local env dev"
   ]
  },
  {
   "cell_type": "code",
   "execution_count": 1,
   "id": "649157c6-0ce3-4324-a7b6-15c911ddaf36",
   "metadata": {},
   "outputs": [],
   "source": [
    "SEQUENCES_DIRECTORY = \"../data/alert_sequences\" # directory where to put sequences data\n",
    "SEQUENCE_ID_LIST = [10535, 10537, 10538, 15462, 15463]"
   ]
  },
  {
   "cell_type": "code",
   "execution_count": null,
   "id": "e1e2329e-10ea-43dc-8cbf-bfa4e257e97e",
   "metadata": {},
   "outputs": [],
   "source": []
  },
  {
   "cell_type": "code",
   "execution_count": 2,
   "id": "4e511d97-245c-45cc-9216-a16d31b663aa",
   "metadata": {},
   "outputs": [],
   "source": [
    "import requests\n",
    "\n",
    "import os\n",
    "import pandas as pd\n",
    "from utils import dl_seqs_in_target_dir\n",
    "from api import get_token\n",
    "from pyroclient import Client\n",
    "\n",
    "DISTANT_API_URL = os.environ.get(\"DISTANT_API_URL\")\n",
    "DISTANT_ALERT_API_LOGIN = os.environ.get(\"DISTANT_ALERT_API_LOGIN\")\n",
    "DISTANT_ALERT_API_PASSWORD = os.environ.get(\"DISTANT_ALERT_API_PASSWORD\")"
   ]
  },
  {
   "cell_type": "code",
   "execution_count": 3,
   "id": "ac07ba29-68d0-42d2-bafe-e94d961ec6c2",
   "metadata": {},
   "outputs": [],
   "source": [
    "token = get_token(DISTANT_API_URL, DISTANT_ALERT_API_LOGIN, DISTANT_ALERT_API_PASSWORD)\n",
    "api_client = Client(token, DISTANT_API_URL)\n",
    "\n",
    "# get cameras -> in order to get cam name from cam id\n",
    "cameras = api_client.fetch_cameras().json()"
   ]
  },
  {
   "cell_type": "code",
   "execution_count": null,
   "id": "bb20eafb-540f-4ae4-994e-65548a200bae",
   "metadata": {},
   "outputs": [],
   "source": []
  },
  {
   "cell_type": "code",
   "execution_count": 4,
   "id": "f83022db-ad29-411a-94ab-b23374047d6d",
   "metadata": {},
   "outputs": [
    {
     "name": "stdout",
     "output_type": "stream",
     "text": [
      "== Download Alerts data for sequence 10535, camera moret-sur-loing-01, azimuth 280.0, at 2025-07-14_11-22-05\n",
      "== Download Alerts data for sequence 10537, camera nemours-02, azimuth 25.0, at 2025-07-14_11-24-10\n",
      "== Download Alerts data for sequence 10538, camera croix-augas-02, azimuth 190.0, at 2025-07-14_11-24-31\n",
      "== Download Alerts data for sequence 15462, camera serre-de-barre-01, azimuth 173.0, at 2025-09-29_13-56-58\n",
      "== Download Alerts data for sequence 15463, camera brison-03, azimuth 226.0, at 2025-09-29_13-58-36\n",
      "All needed cameras already present in CSV\n",
      "Download complete\n"
     ]
    }
   ],
   "source": [
    "dl_seqs_in_target_dir(SEQUENCE_ID_LIST, SEQUENCES_DIRECTORY, api_client, cameras)"
   ]
  },
  {
   "cell_type": "code",
   "execution_count": null,
   "id": "8802d744-f9bd-43c8-b46c-19bbf38ad09a",
   "metadata": {},
   "outputs": [],
   "source": []
  },
  {
   "cell_type": "code",
   "execution_count": 5,
   "id": "14706215-c443-4730-a6e9-98a29bb6cfe3",
   "metadata": {},
   "outputs": [],
   "source": [
    "# Set organisation creds here to reproduce a day"
   ]
  },
  {
   "cell_type": "code",
   "execution_count": 6,
   "id": "b3d47381-eb7a-48e6-906f-2c39200e4482",
   "metadata": {},
   "outputs": [],
   "source": [
    "SDIS_API_LOGIN = \"\" # ex: sdis-77\n",
    "SDIS_API_PASSWORD = \"\""
   ]
  },
  {
   "cell_type": "code",
   "execution_count": 7,
   "id": "8b85ed56-d241-446a-9fb6-b19b12dddf7c",
   "metadata": {},
   "outputs": [],
   "source": [
    "if len(SDIS_API_LOGIN):\n",
    "    token = get_token(DISTANT_API_URL, SDIS_API_LOGIN, SDIS_API_PASSWORD)\n",
    "    api_client = Client(token, DISTANT_API_URL)"
   ]
  },
  {
   "cell_type": "code",
   "execution_count": 8,
   "id": "aa9b5326-618b-4ddb-98e6-96d71ac3dc17",
   "metadata": {},
   "outputs": [],
   "source": [
    "if len(SDIS_API_LOGIN):\n",
    "    response = api_client.fetch_sequences_from_date(\"2025-07-14\", limit=50)\n",
    "    api_sequences = pd.DataFrame(response.json())\n",
    "    api_sequences.head()"
   ]
  },
  {
   "cell_type": "code",
   "execution_count": 9,
   "id": "39378c0a-0a5d-433d-aa08-eeee6a309c85",
   "metadata": {},
   "outputs": [],
   "source": [
    "if len(SDIS_API_LOGIN):\n",
    "    SEQUENCE_ID_LIST = list(api_sequences[\"id\"])\n",
    "    SEQUENCE_ID_LIST"
   ]
  },
  {
   "cell_type": "code",
   "execution_count": 10,
   "id": "bbf4a16c-d477-4958-bc97-4d106185f763",
   "metadata": {},
   "outputs": [],
   "source": [
    "if len(SDIS_API_LOGIN):\n",
    "    dl_seqs_in_target_dir(SEQUENCE_ID_LIST, sequences_data, api_client, cameras)"
   ]
  },
  {
   "cell_type": "code",
   "execution_count": null,
   "id": "4232b10f-0005-493f-a717-16838eec6f9a",
   "metadata": {},
   "outputs": [],
   "source": []
  },
  {
   "cell_type": "code",
   "execution_count": null,
   "id": "04093f96-baf2-4b53-afe0-d6d3e963dcda",
   "metadata": {},
   "outputs": [],
   "source": []
  },
  {
   "cell_type": "code",
   "execution_count": null,
   "id": "54e1baa3-4c92-4326-9685-323906bdd871",
   "metadata": {},
   "outputs": [],
   "source": []
  }
 ],
 "metadata": {
  "kernelspec": {
   "display_name": "Python 3 (ipykernel)",
   "language": "python",
   "name": "python3"
  },
  "language_info": {
   "codemirror_mode": {
    "name": "ipython",
    "version": 3
   },
   "file_extension": ".py",
   "mimetype": "text/x-python",
   "name": "python",
   "nbconvert_exporter": "python",
   "pygments_lexer": "ipython3",
   "version": "3.11.13"
  }
 },
 "nbformat": 4,
 "nbformat_minor": 5
}
