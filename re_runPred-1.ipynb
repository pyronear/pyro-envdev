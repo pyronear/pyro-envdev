{
 "cells": [
  {
   "cell_type": "code",
   "execution_count": 1,
   "id": "ae9d1c92",
   "metadata": {},
   "outputs": [],
   "source": [
    "import json\n",
    "import glob\n",
    "from pyroengine.vision import Classifier\n",
    "import argparse\n",
    "import glob\n",
    "import io\n",
    "import json\n",
    "import sys\n",
    "from pathlib import Path\n",
    "from typing import List, Tuple\n",
    "import json\n",
    "import numpy as np\n",
    "import requests\n",
    "from PIL import Image\n",
    "from tqdm import tqdm\n"
   ]
  },
  {
   "cell_type": "code",
   "execution_count": 2,
   "id": "926e5895",
   "metadata": {},
   "outputs": [],
   "source": [
    "model = Classifier()"
   ]
  },
  {
   "cell_type": "code",
   "execution_count": 3,
   "id": "2b53ff69",
   "metadata": {},
   "outputs": [
    {
     "data": {
      "text/plain": [
       "3"
      ]
     },
     "execution_count": 3,
     "metadata": {},
     "output_type": "execute_result"
    }
   ],
   "source": [
    "json_files = glob.glob(\"data/demo77/**/response*.json\")\n",
    "len(json_files)"
   ]
  },
  {
   "cell_type": "code",
   "execution_count": 4,
   "id": "60b92425",
   "metadata": {},
   "outputs": [],
   "source": [
    "def format_bboxes(arr: np.ndarray) -> str:\n",
    "    if arr.size == 0:\n",
    "        return \"[]\"\n",
    "    rounded = np.round(arr.astype(float), 3)\n",
    "    parts = []\n",
    "    for row in rounded:\n",
    "        x1, y1, x2, y2, s = row.tolist()\n",
    "        parts.append(f\"({x1:.3f},{y1:.3f},{x2:.3f},{y2:.3f},{s:.3f})\")\n",
    "    return \"[\" + \",\".join(parts) + \"]\"\n",
    "\n",
    "def download_image(url: str, timeout: int = 30) -> Image.Image:\n",
    "    resp = requests.get(url, timeout=timeout)\n",
    "    resp.raise_for_status()\n",
    "    return Image.open(io.BytesIO(resp.content)).convert(\"RGB\")\n",
    "\n",
    "def process_file(json_path: Path, replace_when_empty: bool = False) -> Path | None:\n",
    "    data = json.loads(json_path.read_text())\n",
    "    modified = False\n",
    "\n",
    "    for entry in tqdm(data, desc=f\"{json_path.name}\", leave=False):\n",
    "        url = entry.get(\"url\")\n",
    "        if not url:\n",
    "            continue\n",
    "        try:\n",
    "            im = download_image(url)\n",
    "            pred = model(im)   # call your Classifier directly\n",
    "            if not isinstance(pred, np.ndarray):\n",
    "                pred = np.array(pred, dtype=float)\n",
    "\n",
    "            if pred.ndim == 2 and pred.shape[1] == 5:\n",
    "                if pred.shape[0] > 0 or replace_when_empty:\n",
    "                    entry[\"bboxes\"] = format_bboxes(pred)\n",
    "                    modified = True\n",
    "        except Exception as e:\n",
    "            print(f\"[WARN] {url} failed: {e}\")\n",
    "            continue\n",
    "\n",
    "    if modified:\n",
    "        out_path = json_path.parent / \"response.json\"\n",
    "        out_path.write_text(json.dumps(data, ensure_ascii=False, indent=2))\n",
    "        return out_path\n",
    "    return None\n"
   ]
  },
  {
   "cell_type": "code",
   "execution_count": 5,
   "id": "8a16c76b",
   "metadata": {},
   "outputs": [
    {
     "name": "stdout",
     "output_type": "stream",
     "text": [
      "Found 3 files\n"
     ]
    },
    {
     "name": "stderr",
     "output_type": "stream",
     "text": [
      "Files:   0%|          | 0/3 [00:00<?, ?it/s]2025-09-17 07:55:53,861 | INFO: Model original pred : []\n",
      "2025-09-17 07:55:54,440 | INFO: Model original pred : [[3.0517578e-05 5.2821183e-01 1.7272949e-02 5.5164933e-01 4.0258789e-01]]\n",
      "2025-09-17 07:55:54,905 | INFO: Model original pred : [[3.0517578e-05 5.1171875e-01 2.2766113e-02 5.5078125e-01 1.7480469e-01]]\n",
      "2025-09-17 07:55:55,325 | INFO: Model original pred : [[0.         0.5234375  0.02085876 0.5512153  0.36938477]]\n",
      "2025-09-17 07:55:56,393 | INFO: Model original pred : []\n",
      "2025-09-17 07:55:57,101 | INFO: Model original pred : [[9.1552734e-05 5.3081596e-01 1.6601562e-02 5.5251735e-01 1.5600586e-01]]\n",
      "2025-09-17 07:55:58,063 | INFO: Model original pred : []\n",
      "2025-09-17 07:55:59,493 | INFO: Model original pred : []\n",
      "2025-09-17 07:56:03,268 | INFO: Model original pred : [[0.         0.5277778  0.02450562 0.5503472  0.41552734]]\n",
      "2025-09-17 07:56:04,938 | INFO: Model original pred : [[0.00105286 0.52821183 0.02548218 0.55164933 0.33129883]]\n",
      "Files:  33%|███▎      | 1/3 [00:11<00:22, 11.48s/it]"
     ]
    },
    {
     "name": "stdout",
     "output_type": "stream",
     "text": [
      "Saved updated file to data/demo77/croix-augas_-_190-13-24/response.json\n"
     ]
    },
    {
     "name": "stderr",
     "output_type": "stream",
     "text": [
      "2025-09-17 07:56:05,956 | INFO: Model original pred : []\n",
      "2025-09-17 07:56:06,751 | INFO: Model original pred : []\n",
      "2025-09-17 07:56:07,127 | INFO: Model original pred : [[0.17126465 0.43511283 0.17932129 0.44856772 0.26464844]]\n",
      "2025-09-17 07:56:07,561 | INFO: Model original pred : [[0.1854248  0.4309896  0.19470215 0.4483507  0.3642578 ]]\n",
      "2025-09-17 07:56:07,945 | INFO: Model original pred : [[0.16046143 0.4327257  0.17156982 0.4500868  0.19592285]]\n",
      "2025-09-17 07:56:08,279 | INFO: Model original pred : [[0.16326904 0.43381077 0.17803955 0.44986978 0.16125488]]\n",
      "2025-09-17 07:56:08,623 | INFO: Model original pred : [[0.17565918 0.43229166 0.18688965 0.4487847  0.5917969 ]]\n",
      "2025-09-17 07:56:08,943 | INFO: Model original pred : [[0.18414307 0.42578125 0.199646   0.4483507  0.6352539 ]]\n",
      "2025-09-17 07:56:09,301 | INFO: Model original pred : [[0.15472412 0.43337673 0.18658447 0.45203993 0.25463867]]\n",
      "2025-09-17 07:56:09,774 | INFO: Model original pred : [[0.15478516 0.42144096 0.17602539 0.45095485 0.4970703 ]]\n",
      "Files:  67%|██████▋   | 2/3 [00:16<00:07,  7.57s/it]"
     ]
    },
    {
     "name": "stdout",
     "output_type": "stream",
     "text": [
      "Saved updated file to data/demo77/nemours_-_25-13-24/response.json\n"
     ]
    },
    {
     "name": "stderr",
     "output_type": "stream",
     "text": [
      "2025-09-17 07:56:10,183 | INFO: Model original pred : []\n",
      "2025-09-17 07:56:10,567 | INFO: Model original pred : []\n",
      "2025-09-17 07:56:10,990 | INFO: Model original pred : []\n",
      "2025-09-17 07:56:11,297 | INFO: Model original pred : []\n",
      "2025-09-17 07:56:11,732 | INFO: Model original pred : []\n",
      "2025-09-17 07:56:12,055 | INFO: Model original pred : [[0.38830566 0.4626736  0.42126465 0.49739584 0.31445312]]\n",
      "2025-09-17 07:56:12,477 | INFO: Model original pred : [[0.39794922 0.4704861  0.43603516 0.49913195 0.40405273]]\n",
      "2025-09-17 07:56:12,796 | INFO: Model original pred : [[0.39672852 0.46875    0.4099121  0.49479166 0.15283203]]\n",
      "2025-09-17 07:56:13,169 | INFO: Model original pred : [[0.3876953  0.47808158 0.4033203  0.49761283 0.26342773]\n",
      " [0.6645508  0.48198783 0.6713867  0.49370658 0.2319336 ]]\n",
      "2025-09-17 07:56:13,573 | INFO: Model original pred : [[0.4050293 0.4592014 0.4362793 0.4956597 0.3474121]]\n",
      "Files: 100%|██████████| 3/3 [00:20<00:00,  6.71s/it]"
     ]
    },
    {
     "name": "stdout",
     "output_type": "stream",
     "text": [
      "Saved updated file to data/demo77/moret-sur-loing_-_280-13-22/response.json\n"
     ]
    },
    {
     "name": "stderr",
     "output_type": "stream",
     "text": [
      "\n"
     ]
    }
   ],
   "source": [
    "# Process all response*.json files\n",
    "json_files = glob.glob(\"data/demo77/**/response*.json\", recursive=True)\n",
    "print(f\"Found {len(json_files)} files\")\n",
    "\n",
    "for p in tqdm(json_files, desc=\"Files\"):\n",
    "    out = process_file(Path(p), replace_when_empty=False)\n",
    "    if out:\n",
    "        print(f\"Saved updated file to {out}\")"
   ]
  },
  {
   "cell_type": "code",
   "execution_count": null,
   "id": "b3458d79",
   "metadata": {},
   "outputs": [],
   "source": []
  },
  {
   "cell_type": "code",
   "execution_count": null,
   "id": "091a5b51",
   "metadata": {},
   "outputs": [],
   "source": []
  }
 ],
 "metadata": {
  "kernelspec": {
   "display_name": ".venv",
   "language": "python",
   "name": "python3"
  },
  "language_info": {
   "codemirror_mode": {
    "name": "ipython",
    "version": 3
   },
   "file_extension": ".py",
   "mimetype": "text/x-python",
   "name": "python",
   "nbconvert_exporter": "python",
   "pygments_lexer": "ipython3",
   "version": "3.11.12"
  }
 },
 "nbformat": 4,
 "nbformat_minor": 5
}
