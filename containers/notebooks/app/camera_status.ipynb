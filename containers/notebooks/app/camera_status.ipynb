{
 "cells": [
  {
   "cell_type": "markdown",
   "metadata": {},
   "source": [
    "# Intro\n",
    "This notebook is designed to updates cameras status (updating last ping and last image) \n",
    "\n",
    "It works as it is (just run blocks from the setup section)\n",
    "It is also possible to run the entire notebook at once: To do so, in the menu, click ‘Run’ then ‘Run All Cells’."
   ]
  },
  {
   "cell_type": "code",
   "execution_count": null,
   "metadata": {},
   "outputs": [],
   "source": [
    "import pandas as pd\n",
    "import requests\n",
    "from dotenv import load_dotenv\n",
    "import os\n",
    "from api import get_token, get_camera_token\n",
    "from pyroclient import Client\n",
    "import glob\n",
    "from PIL import Image\n",
    "import itertools\n",
    "import io\n",
    "from utils import dl_seqs_from_url"
   ]
  },
  {
   "cell_type": "code",
   "execution_count": null,
   "metadata": {},
   "outputs": [],
   "source": [
    "API_URL = \"http://api:5050\"\n",
    "load_dotenv(\"../.env\")\n",
    "SUPERADMIN_LOGIN = os.environ.get(\"SUPERADMIN_LOGIN\")\n",
    "SUPERADMIN_PWD = os.environ.get(\"SUPERADMIN_PWD\")\n",
    "\n",
    "# Get access token\n",
    "admin_access_token = get_token(API_URL, SUPERADMIN_LOGIN, SUPERADMIN_PWD)\n",
    "\n",
    "api_client = Client(admin_access_token, API_URL)\n",
    "\n",
    "# get cameras -> in order to get cam name from cam id\n",
    "cameras = api_client.fetch_cameras().json()"
   ]
  },
  {
   "cell_type": "code",
   "execution_count": null,
   "metadata": {},
   "outputs": [],
   "source": [
    "# download img folder \n",
    "BASE_DIRECTORY = \"../data\"\n",
    "\n",
    "SAMPLE_PATH = \"last_image_cameras\"\n",
    "url = \"https://github.com/pyronear/pyro-envdev/releases/download/v0.0.1/last_image_cameras.zip\"\n",
    "\n",
    "if not os.path.isdir(os.path.join(BASE_DIRECTORY, SAMPLE_PATH)):\n",
    "    print(\"Images not found, dowloading ...\")\n",
    "    dl_seqs_from_url(url, os.path.join(BASE_DIRECTORY, SAMPLE_PATH))\n",
    "else:\n",
    "    print(f\"SAMPLE_PATH {SAMPLE_PATH} directory exists, assume alerts inside, no download\")\n"
   ]
  },
  {
   "cell_type": "code",
   "execution_count": null,
   "metadata": {},
   "outputs": [],
   "source": [
    "cam_imgs = glob.glob(os.path.join(BASE_DIRECTORY, SAMPLE_PATH,\"*\"))\n",
    "images_cycle = itertools.cycle(cam_imgs)\n",
    "\n",
    "# updates hearbeat and last image for cameras\n",
    "for cam in cameras:   \n",
    "    camera_token = get_camera_token(API_URL, cam[\"id\"], admin_access_token)\n",
    "    camera_client  = Client(camera_token, API_URL)\n",
    "\n",
    "    # update camera heartbeat/lastping\n",
    "    camera_client.heartbeat()\n",
    "\n",
    "    # update camera last image\n",
    "    img_file = next(images_cycle)\n",
    "    \n",
    "    stream = io.BytesIO()\n",
    "    im = Image.open(img_file)\n",
    "    im.save(stream, format=\"JPEG\", quality=80)\n",
    "    \n",
    "    response = camera_client.update_last_image(stream.getvalue())\n",
    "\n",
    "print(\"hearbeat and last image updates with success\")"
   ]
  },
  {
   "cell_type": "code",
   "execution_count": null,
   "metadata": {},
   "outputs": [],
   "source": []
  }
 ],
 "metadata": {
  "kernelspec": {
   "display_name": "Python 3 (ipykernel)",
   "language": "python",
   "name": "python3"
  },
  "language_info": {
   "codemirror_mode": {
    "name": "ipython",
    "version": 3
   },
   "file_extension": ".py",
   "mimetype": "text/x-python",
   "name": "python",
   "nbconvert_exporter": "python",
   "pygments_lexer": "ipython3",
   "version": "3.13.7"
  }
 },
 "nbformat": 4,
 "nbformat_minor": 4
}
