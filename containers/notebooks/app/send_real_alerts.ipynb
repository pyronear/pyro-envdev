{
 "cells": [
  {
   "cell_type": "code",
   "execution_count": null,
   "metadata": {},
   "outputs": [],
   "source": [
    "import pandas as pd\n",
    "from dotenv import load_dotenv\n",
    "import os\n",
    "from api import get_token, get_camera_token\n",
    "from pyroclient import Client\n",
    "import glob\n",
    "from PIL import Image\n",
    "import numpy as np\n",
    "import io\n",
    "import itertools\n",
    "import requests\n",
    "import random\n",
    "import shutil\n",
    "from utils import read_pred_file\n",
    "import time"
   ]
  },
  {
   "cell_type": "code",
   "execution_count": null,
   "metadata": {},
   "outputs": [],
   "source": [
    "cat ../.env"
   ]
  },
  {
   "cell_type": "code",
   "execution_count": null,
   "metadata": {},
   "outputs": [],
   "source": [
    "API_URL = \"http://api:5050\"\n",
    "load_dotenv(\"../.env\")\n",
    "SUPERADMIN_LOGIN = os.environ.get(\"SUPERADMIN_LOGIN\")\n",
    "SUPERADMIN_PWD = os.environ.get(\"SUPERADMIN_PWD\")\n",
    "\n",
    "# Get access token\n",
    "admin_access_token = get_token(API_URL, SUPERADMIN_LOGIN, SUPERADMIN_PWD)\n"
   ]
  },
  {
   "cell_type": "code",
   "execution_count": null,
   "metadata": {},
   "outputs": [],
   "source": [
    "users = pd.read_csv(\"../data/csv/API_DATA_DEV - users.csv\")\n",
    "cameras = pd.read_csv(\"../data/csv/API_DATA_DEV - cameras.csv\")\n",
    "users"
   ]
  },
  {
   "cell_type": "markdown",
   "metadata": {},
   "source": [
    "Select user via its login"
   ]
  },
  {
   "cell_type": "code",
   "execution_count": null,
   "metadata": {},
   "outputs": [],
   "source": [
    "user = \"test77\"\n",
    "organization_id = users[users[\"login\"]==user][\"organization_id\"].item()\n",
    "\n",
    "user_cameras = cameras[cameras[\"organization_id\"]==organization_id]\n",
    "user_cameras"
   ]
  },
  {
   "cell_type": "markdown",
   "metadata": {
    "jp-MarkdownHeadingCollapsed": true
   },
   "source": [
    "# Send some alerts\n",
    "Download a file containing relevant images and predictions, then send alerts to selected cameras (with a random azimuth)."
   ]
  },
  {
   "cell_type": "code",
   "execution_count": null,
   "metadata": {},
   "outputs": [],
   "source": [
    "send_alert_from_cam_ids = [2, 4, 5, 7] # select cameras"
   ]
  },
  {
   "cell_type": "code",
   "execution_count": null,
   "metadata": {},
   "outputs": [],
   "source": [
    "if not os.path.isdir(\"selection-true-positives\"):\n",
    "    print(\"Images not found, dowloading ...\")\n",
    "    url = \"https://github.com/pyronear/pyro-envdev/releases/download/v0.0.1/selection-true-positives.zip\"\n",
    "    output_path = \"selection-true-positives.zip\"\n",
    "\n",
    "    response = requests.get(url, stream=True)\n",
    "    response.raise_for_status()  # Raises an error for bad status codes\n",
    "\n",
    "    with open(output_path, 'wb') as f:\n",
    "        for chunk in response.iter_content(chunk_size=8192):\n",
    "            f.write(chunk)\n",
    "\n",
    "    zip_path = \"selection-true-positives.zip\"\n",
    "    extract_dir = \"selection-true-positives\"  # Current directory\n",
    "\n",
    "    shutil.unpack_archive(zip_path, extract_dir, 'zip')\n",
    "\n",
    "    print(\"Extraction completed.\")\n",
    "\n",
    "    "
   ]
  },
  {
   "cell_type": "code",
   "execution_count": null,
   "metadata": {},
   "outputs": [],
   "source": [
    "sequances_folders = glob.glob(\"selection-true-positives/*\")\n",
    "len(sequances_folders)"
   ]
  },
  {
   "cell_type": "code",
   "execution_count": null,
   "metadata": {},
   "outputs": [],
   "source": [
    "for camera_id in send_alert_from_cam_ids:\n",
    "    \n",
    "    camera_token = get_camera_token(API_URL, camera_id, admin_access_token)\n",
    "    camera_client  = Client(camera_token, API_URL)\n",
    "\n",
    "    sequances_folder = sequances_folders[camera_id]\n",
    "\n",
    "    imgs = glob.glob(f\"{sequances_folder}/images/*\")\n",
    "    imgs.sort()\n",
    "    preds = glob.glob(f\"{sequances_folder}/labels_predictions/*\")\n",
    "    preds.sort()\n",
    "\n",
    "    cam_center_azimuth = random.randint(0,360)\n",
    "    print(f\"Sending alerts from camera {camera_id} at azimuth {cam_center_azimuth}\")\n",
    "    for img_file, pred_file in zip(imgs, preds):\n",
    "    \n",
    "        stream = io.BytesIO()\n",
    "        im = Image.open(img_file)\n",
    "        im.save(stream, format=\"JPEG\", quality=80)\n",
    "\n",
    "        bboxes = read_pred_file(pred_file)\n",
    "        response = camera_client.create_detection(stream.getvalue(), cam_center_azimuth, bboxes)\n",
    "        # Force a KeyError if the request failed\n",
    "        \n",
    "        response.json()[\"id\"]"
   ]
  },
  {
   "cell_type": "markdown",
   "metadata": {},
   "source": [
    "# Create 2 sequences that triangulate\n",
    "Download a file containning 2 alerts from 2 cameras that triangulate, then it send alerts to the api. "
   ]
  },
  {
   "cell_type": "code",
   "execution_count": null,
   "metadata": {},
   "outputs": [],
   "source": [
    "if not os.path.isdir(\"triangulated_sequences\"):\n",
    "    print(\"Images not found, dowloading ...\")\n",
    "    output_path = \"triangulated_sequences.zip\"\n",
    "\n",
    "    url = \"https://github.com/pyronear/pyro-envdev/releases/download/v0.0.1/\"+\"triangulated_sequences.zip\"\n",
    "\n",
    "    response = requests.get(url, stream=True)\n",
    "    response.raise_for_status()  # Raises an error for bad status codes\n",
    "\n",
    "    with open(output_path, 'wb') as f:\n",
    "        for chunk in response.iter_content(chunk_size=8192):\n",
    "            f.write(chunk)\n",
    "\n",
    "    zip_path = output_path\n",
    "    extract_dir = \"triangulated_sequences\"  # Current directory\n",
    "\n",
    "    shutil.unpack_archive(zip_path, extract_dir, 'zip')\n",
    "\n",
    "    print(\"Extraction completed.\")\n",
    "\n",
    "cam_triangulation = {\n",
    "    \"12\": {\n",
    "        \"azimuth\": 226,\n",
    "        \"path\": \"triangulated_sequences/brison-03\"\n",
    "    },\n",
    "    \"13\": {\n",
    "        \"azimuth\": 54,\n",
    "        \"path\": \"triangulated_sequences/serre-de-barre-01\"\n",
    "    }\n",
    "}\n",
    "\n",
    "for cam_id, info in cam_triangulation.items():\n",
    "    camera_token = get_camera_token(API_URL, cam_id, admin_access_token)\n",
    "    camera_client  = Client(camera_token, API_URL)\n",
    "    info[\"client\"] = camera_client\n",
    "\n",
    "    seq_folder = info[\"path\"]\n",
    "\n",
    "    imgs = glob.glob(f\"{seq_folder}/images/*\")\n",
    "    imgs.sort()\n",
    "    preds = glob.glob(f\"{seq_folder}/labels_predictions/*\")\n",
    "    preds.sort()\n",
    "\n",
    "    print(f\"Cam {cam_id}: {len(imgs)} images, {len(preds)} preds\")  # debug\n",
    "\n",
    "    info[\"seq_data_pair\"] = list(zip(imgs, preds))\n",
    "\n",
    "print(\"Send some entrelaced detections\")\n",
    "for files in itertools.zip_longest(*(info[\"seq_data_pair\"] for info in cam_triangulation.values())):\n",
    "\n",
    "    for (cam_id, info), pair in zip(cam_triangulation.items(), files):\n",
    "        if pair is None:\n",
    "            continue #len of sequences might be different\n",
    "        img_file, pred_file = pair\n",
    "        client = info[\"client\"]\n",
    "        azimuth = info[\"azimuth\"]\n",
    "\n",
    "        stream = io.BytesIO()\n",
    "        im = Image.open(img_file)\n",
    "        im.save(stream, format=\"JPEG\", quality=80)\n",
    "\n",
    "        with open(pred_file, \"r\") as file:\n",
    "            bboxes = file.read()\n",
    "\n",
    "        response = client.create_detection(stream.getvalue(),azimuth,eval(bboxes) )\n",
    "        time.sleep(1)\n",
    "\n",
    "        response.json()[\"id\"]    # Force a KeyError if the request failed\n",
    "        print(f\"detection sent for cam {cam_id}\")"
   ]
  },
  {
   "cell_type": "code",
   "execution_count": null,
   "metadata": {},
   "outputs": [],
   "source": []
  }
 ],
 "metadata": {
  "kernelspec": {
   "display_name": "Python 3 (ipykernel)",
   "language": "python",
   "name": "python3"
  },
  "language_info": {
   "codemirror_mode": {
    "name": "ipython",
    "version": 3
   },
   "file_extension": ".py",
   "mimetype": "text/x-python",
   "name": "python",
   "nbconvert_exporter": "python",
   "pygments_lexer": "ipython3",
   "version": "3.8.20"
  }
 },
 "nbformat": 4,
 "nbformat_minor": 4
}
