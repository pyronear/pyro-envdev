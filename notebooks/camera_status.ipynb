{
 "cells": [
  {
   "cell_type": "code",
   "execution_count": 1,
   "metadata": {},
   "outputs": [],
   "source": [
    "import pandas as pd\n",
    "from dotenv import load_dotenv\n",
    "import os\n",
    "from api import get_token, get_camera_token\n",
    "from pyroclient import Client\n",
    "import glob\n",
    "from PIL import Image\n",
    "import io\n",
    "from utils import dl_data"
   ]
  },
  {
   "cell_type": "code",
   "execution_count": 2,
   "metadata": {},
   "outputs": [],
   "source": [
    "API_URL = \"http://0.0.0.0:5050\"\n",
    "load_dotenv(\"../.env\")\n",
    "SUPERADMIN_LOGIN = os.environ.get(\"SUPERADMIN_LOGIN\")\n",
    "SUPERADMIN_PWD = os.environ.get(\"SUPERADMIN_PWD\")\n",
    "\n",
    "# Get access token\n",
    "admin_access_token = get_token(API_URL, SUPERADMIN_LOGIN, SUPERADMIN_PWD)\n"
   ]
  },
  {
   "cell_type": "code",
   "execution_count": 3,
   "metadata": {},
   "outputs": [
    {
     "data": {
      "text/html": [
       "<div>\n",
       "<style scoped>\n",
       "    .dataframe tbody tr th:only-of-type {\n",
       "        vertical-align: middle;\n",
       "    }\n",
       "\n",
       "    .dataframe tbody tr th {\n",
       "        vertical-align: top;\n",
       "    }\n",
       "\n",
       "    .dataframe thead th {\n",
       "        text-align: right;\n",
       "    }\n",
       "</style>\n",
       "<table border=\"1\" class=\"dataframe\">\n",
       "  <thead>\n",
       "    <tr style=\"text-align: right;\">\n",
       "      <th></th>\n",
       "      <th>id</th>\n",
       "      <th>organization_id</th>\n",
       "      <th>password</th>\n",
       "      <th>login</th>\n",
       "      <th>role</th>\n",
       "      <th>created_at</th>\n",
       "    </tr>\n",
       "  </thead>\n",
       "  <tbody>\n",
       "    <tr>\n",
       "      <th>0</th>\n",
       "      <td>2</td>\n",
       "      <td>2</td>\n",
       "      <td>test</td>\n",
       "      <td>test77</td>\n",
       "      <td>agent</td>\n",
       "      <td>2024-02-23T08:18:45.447773</td>\n",
       "    </tr>\n",
       "    <tr>\n",
       "      <th>1</th>\n",
       "      <td>3</td>\n",
       "      <td>3</td>\n",
       "      <td>test</td>\n",
       "      <td>test07</td>\n",
       "      <td>agent</td>\n",
       "      <td>2024-02-23T08:18:45.447773</td>\n",
       "    </tr>\n",
       "  </tbody>\n",
       "</table>\n",
       "</div>"
      ],
      "text/plain": [
       "   id  organization_id password   login   role                  created_at\n",
       "0   2                2     test  test77  agent  2024-02-23T08:18:45.447773\n",
       "1   3                3     test  test07  agent  2024-02-23T08:18:45.447773"
      ]
     },
     "execution_count": 3,
     "metadata": {},
     "output_type": "execute_result"
    }
   ],
   "source": [
    "users = pd.read_csv(\"../data/csv/API_DATA_DEV - users.csv\")\n",
    "cameras = pd.read_csv(\"../data/csv/API_DATA_DEV - cameras.csv\")\n",
    "users"
   ]
  },
  {
   "cell_type": "code",
   "execution_count": 4,
   "metadata": {},
   "outputs": [
    {
     "data": {
      "text/html": [
       "<div>\n",
       "<style scoped>\n",
       "    .dataframe tbody tr th:only-of-type {\n",
       "        vertical-align: middle;\n",
       "    }\n",
       "\n",
       "    .dataframe tbody tr th {\n",
       "        vertical-align: top;\n",
       "    }\n",
       "\n",
       "    .dataframe thead th {\n",
       "        text-align: right;\n",
       "    }\n",
       "</style>\n",
       "<table border=\"1\" class=\"dataframe\">\n",
       "  <thead>\n",
       "    <tr style=\"text-align: right;\">\n",
       "      <th></th>\n",
       "      <th>id</th>\n",
       "      <th>organization_id</th>\n",
       "      <th>name</th>\n",
       "      <th>angle_of_view</th>\n",
       "      <th>elevation</th>\n",
       "      <th>lat</th>\n",
       "      <th>lon</th>\n",
       "      <th>is_trustable</th>\n",
       "      <th>last_active_at</th>\n",
       "      <th>created_at</th>\n",
       "    </tr>\n",
       "  </thead>\n",
       "  <tbody>\n",
       "    <tr>\n",
       "      <th>0</th>\n",
       "      <td>2</td>\n",
       "      <td>2</td>\n",
       "      <td>videlles-01</td>\n",
       "      <td>54.2</td>\n",
       "      <td>110</td>\n",
       "      <td>48.4783</td>\n",
       "      <td>2.4242</td>\n",
       "      <td>True</td>\n",
       "      <td>NaN</td>\n",
       "      <td>2023-11-07T15:07:19.226673</td>\n",
       "    </tr>\n",
       "    <tr>\n",
       "      <th>1</th>\n",
       "      <td>3</td>\n",
       "      <td>2</td>\n",
       "      <td>videlles-02</td>\n",
       "      <td>54.2</td>\n",
       "      <td>110</td>\n",
       "      <td>48.4783</td>\n",
       "      <td>2.4242</td>\n",
       "      <td>True</td>\n",
       "      <td>NaN</td>\n",
       "      <td>2023-11-07T15:07:19.226673</td>\n",
       "    </tr>\n",
       "    <tr>\n",
       "      <th>2</th>\n",
       "      <td>4</td>\n",
       "      <td>2</td>\n",
       "      <td>croix-augas-01</td>\n",
       "      <td>54.2</td>\n",
       "      <td>110</td>\n",
       "      <td>48.4267</td>\n",
       "      <td>2.7109</td>\n",
       "      <td>True</td>\n",
       "      <td>NaN</td>\n",
       "      <td>2023-11-07T15:07:19.226673</td>\n",
       "    </tr>\n",
       "    <tr>\n",
       "      <th>3</th>\n",
       "      <td>5</td>\n",
       "      <td>2</td>\n",
       "      <td>croix-augas-02</td>\n",
       "      <td>54.2</td>\n",
       "      <td>110</td>\n",
       "      <td>48.4267</td>\n",
       "      <td>2.7109</td>\n",
       "      <td>True</td>\n",
       "      <td>NaN</td>\n",
       "      <td>2023-11-07T15:07:19.226673</td>\n",
       "    </tr>\n",
       "    <tr>\n",
       "      <th>4</th>\n",
       "      <td>6</td>\n",
       "      <td>2</td>\n",
       "      <td>moret-sur-loing-01</td>\n",
       "      <td>54.2</td>\n",
       "      <td>110</td>\n",
       "      <td>48.3792</td>\n",
       "      <td>2.8208</td>\n",
       "      <td>True</td>\n",
       "      <td>NaN</td>\n",
       "      <td>2023-11-07T15:07:19.226673</td>\n",
       "    </tr>\n",
       "    <tr>\n",
       "      <th>5</th>\n",
       "      <td>7</td>\n",
       "      <td>2</td>\n",
       "      <td>moret-sur-loing-02</td>\n",
       "      <td>54.2</td>\n",
       "      <td>110</td>\n",
       "      <td>48.3792</td>\n",
       "      <td>2.8208</td>\n",
       "      <td>True</td>\n",
       "      <td>NaN</td>\n",
       "      <td>2023-11-07T15:07:19.226673</td>\n",
       "    </tr>\n",
       "    <tr>\n",
       "      <th>6</th>\n",
       "      <td>8</td>\n",
       "      <td>2</td>\n",
       "      <td>nemours-01</td>\n",
       "      <td>54.2</td>\n",
       "      <td>110</td>\n",
       "      <td>48.2605</td>\n",
       "      <td>2.7064</td>\n",
       "      <td>True</td>\n",
       "      <td>NaN</td>\n",
       "      <td>2023-11-07T15:07:19.226673</td>\n",
       "    </tr>\n",
       "    <tr>\n",
       "      <th>7</th>\n",
       "      <td>9</td>\n",
       "      <td>2</td>\n",
       "      <td>nemours-02</td>\n",
       "      <td>54.2</td>\n",
       "      <td>110</td>\n",
       "      <td>48.2605</td>\n",
       "      <td>2.7064</td>\n",
       "      <td>True</td>\n",
       "      <td>NaN</td>\n",
       "      <td>2023-11-07T15:07:19.226673</td>\n",
       "    </tr>\n",
       "  </tbody>\n",
       "</table>\n",
       "</div>"
      ],
      "text/plain": [
       "   id  organization_id                name  angle_of_view  elevation      lat  \\\n",
       "0   2                2         videlles-01           54.2        110  48.4783   \n",
       "1   3                2         videlles-02           54.2        110  48.4783   \n",
       "2   4                2      croix-augas-01           54.2        110  48.4267   \n",
       "3   5                2      croix-augas-02           54.2        110  48.4267   \n",
       "4   6                2  moret-sur-loing-01           54.2        110  48.3792   \n",
       "5   7                2  moret-sur-loing-02           54.2        110  48.3792   \n",
       "6   8                2          nemours-01           54.2        110  48.2605   \n",
       "7   9                2          nemours-02           54.2        110  48.2605   \n",
       "\n",
       "      lon  is_trustable  last_active_at                  created_at  \n",
       "0  2.4242          True             NaN  2023-11-07T15:07:19.226673  \n",
       "1  2.4242          True             NaN  2023-11-07T15:07:19.226673  \n",
       "2  2.7109          True             NaN  2023-11-07T15:07:19.226673  \n",
       "3  2.7109          True             NaN  2023-11-07T15:07:19.226673  \n",
       "4  2.8208          True             NaN  2023-11-07T15:07:19.226673  \n",
       "5  2.8208          True             NaN  2023-11-07T15:07:19.226673  \n",
       "6  2.7064          True             NaN  2023-11-07T15:07:19.226673  \n",
       "7  2.7064          True             NaN  2023-11-07T15:07:19.226673  "
      ]
     },
     "execution_count": 4,
     "metadata": {},
     "output_type": "execute_result"
    }
   ],
   "source": [
    "user = \"test77\"\n",
    "organization_id = users[users[\"login\"]==user][\"organization_id\"].item()\n",
    "\n",
    "user_cameras = cameras[cameras[\"organization_id\"]==organization_id]\n",
    "user_cameras"
   ]
  },
  {
   "cell_type": "code",
   "execution_count": 5,
   "metadata": {},
   "outputs": [],
   "source": [
    "send_alert_from_cam_ids = [2, 4, 5, 7] # select cameras"
   ]
  },
  {
   "cell_type": "code",
   "execution_count": 6,
   "metadata": {},
   "outputs": [],
   "source": [
    "if not os.path.isdir(\"selection-true-positives\"):\n",
    "    dl_data()"
   ]
  },
  {
   "cell_type": "code",
   "execution_count": 7,
   "metadata": {},
   "outputs": [
    {
     "data": {
      "text/plain": [
       "12"
      ]
     },
     "execution_count": 7,
     "metadata": {},
     "output_type": "execute_result"
    }
   ],
   "source": [
    "sequances_folders = glob.glob(\"selection-true-positives/*\")\n",
    "len(sequances_folders)"
   ]
  },
  {
   "cell_type": "code",
   "execution_count": 8,
   "metadata": {},
   "outputs": [],
   "source": [
    "# Heartbeat\n",
    "\n",
    "for camera_id in send_alert_from_cam_ids:\n",
    "    \n",
    "    camera_token = get_camera_token(API_URL, camera_id, admin_access_token)\n",
    "    camera_client  = Client(camera_token, API_URL)\n",
    "\n",
    "    camera_client.heartbeat()\n",
    "\n",
    "    sequances_folder = sequances_folders[camera_id]\n",
    "\n",
    "    "
   ]
  },
  {
   "cell_type": "code",
   "execution_count": 9,
   "metadata": {},
   "outputs": [
    {
     "name": "stdout",
     "output_type": "stream",
     "text": [
      "{\"name\":\"videlles-02\",\"angle_of_view\":54.2,\"is_trustable\":true,\"last_image\":\"2-20250711145724-184321c7.jpg\",\"organization_id\":2,\"id\":2,\"elevation\":110.0,\"lat\":48.4783,\"lon\":2.4242,\"last_active_at\":\"2025-07-11T14:57:24.531372\",\"created_at\":\"2025-07-11T12:58:08.361140\"}\n",
      "{\"name\":\"croix-augas-02\",\"angle_of_view\":54.2,\"is_trustable\":true,\"last_image\":\"4-20250711145724-a84c05a8.jpg\",\"organization_id\":2,\"id\":4,\"elevation\":110.0,\"lat\":48.4267,\"lon\":2.7109,\"last_active_at\":\"2025-07-11T14:57:24.571574\",\"created_at\":\"2025-07-11T12:58:08.377063\"}\n",
      "{\"name\":\"moret-sur-loing-01\",\"angle_of_view\":54.2,\"is_trustable\":true,\"last_image\":\"5-20250711145724-d279d770.jpg\",\"organization_id\":2,\"id\":5,\"elevation\":110.0,\"lat\":48.3792,\"lon\":2.8208,\"last_active_at\":\"2025-07-11T14:57:24.617543\",\"created_at\":\"2025-07-11T12:58:08.404154\"}\n",
      "{\"name\":\"nemours-01\",\"angle_of_view\":54.2,\"is_trustable\":true,\"last_image\":\"7-20250711145724-0c0072b6.jpg\",\"organization_id\":2,\"id\":7,\"elevation\":110.0,\"lat\":48.2605,\"lon\":2.7064,\"last_active_at\":\"2025-07-11T14:57:24.657605\",\"created_at\":\"2025-07-11T12:58:08.482790\"}\n"
     ]
    }
   ],
   "source": [
    "# Update last image\n",
    "\n",
    "for camera_id in send_alert_from_cam_ids:\n",
    "    \n",
    "    camera_token = get_camera_token(API_URL, camera_id, admin_access_token)\n",
    "    camera_client  = Client(camera_token, API_URL)\n",
    "\n",
    "\n",
    "    sequances_folder = sequances_folders[camera_id]\n",
    "    imgs = glob.glob(f\"{sequances_folder}/images/*\")\n",
    "    img_file = imgs[0]\n",
    "\n",
    "    stream = io.BytesIO()\n",
    "    im = Image.open(img_file)\n",
    "    im.save(stream, format=\"JPEG\", quality=80)\n",
    "    response = camera_client.update_last_image(stream.getvalue())\n",
    "    print(response.text)\n",
    "\n",
    "\n",
    "\n",
    "    "
   ]
  },
  {
   "cell_type": "code",
   "execution_count": null,
   "metadata": {},
   "outputs": [],
   "source": []
  }
 ],
 "metadata": {
  "kernelspec": {
   "display_name": ".venv",
   "language": "python",
   "name": "python3"
  },
  "language_info": {
   "codemirror_mode": {
    "name": "ipython",
    "version": 3
   },
   "file_extension": ".py",
   "mimetype": "text/x-python",
   "name": "python",
   "nbconvert_exporter": "python",
   "pygments_lexer": "ipython3",
   "version": "3.11.12"
  }
 },
 "nbformat": 4,
 "nbformat_minor": 2
}
