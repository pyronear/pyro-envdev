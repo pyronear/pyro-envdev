{
 "cells": [
  {
   "cell_type": "code",
   "execution_count": 1,
   "metadata": {},
   "outputs": [],
   "source": [
    "import pandas as pd\n",
    "from dotenv import load_dotenv\n",
    "import os\n",
    "from api import get_token, get_camera_token\n",
    "from pyroclient import Client\n",
    "import glob\n",
    "from PIL import Image\n",
    "import numpy as np\n",
    "import io\n",
    "import requests\n",
    "import random\n",
    "import shutil\n",
    "from utils import read_pred_file\n",
    "import time"
   ]
  },
  {
   "cell_type": "code",
   "execution_count": 2,
   "metadata": {},
   "outputs": [
    {
     "name": "stdout",
     "output_type": "stream",
     "text": [
      "API_URL=http://pyro_api:5050\n",
      "CAM_USER=my_dummy_login\n",
      "CAM_PWD=my_dummy_pwd\n",
      "\n",
      "LOKI_URL=http://my-loki-service.com\n",
      "PROMTAIL_DEVICE_SCOPE=tower_scope\n",
      "PROMTAIL_DEVICE_NAME=tower_name\n",
      "\n",
      "SUPERADMIN_LOGIN=dummy_login\n",
      "SUPERADMIN_PWD=dummy&P@ssw0rd!\n",
      "\n",
      "POSTGRES_USER=dummy_pg_user\n",
      "POSTGRES_PASSWORD=dummy_pg_pwd\n",
      "POSTGRES_DB=dummy_pg_db\n",
      "\n",
      "S3_ENDPOINT_URL=http://localstack:4566\n",
      "S3_ACCESS_KEY=fake\n",
      "S3_SECRET_KEY=fake\n",
      "S3_REGION=us-east-1\n",
      "\n",
      "DB_UI_MAIL=dummy@pyronear.com\n",
      "DB_UI_PWD=strong-password\n"
     ]
    }
   ],
   "source": [
    "cat ../.env"
   ]
  },
  {
   "cell_type": "code",
   "execution_count": 3,
   "metadata": {},
   "outputs": [],
   "source": [
    "API_URL = \"http://api:5050\"\n",
    "load_dotenv(\"../.env\")\n",
    "SUPERADMIN_LOGIN = os.environ.get(\"SUPERADMIN_LOGIN\")\n",
    "SUPERADMIN_PWD = os.environ.get(\"SUPERADMIN_PWD\")\n",
    "\n",
    "# Get access token\n",
    "admin_access_token = get_token(API_URL, SUPERADMIN_LOGIN, SUPERADMIN_PWD)\n"
   ]
  },
  {
   "cell_type": "code",
   "execution_count": 8,
   "metadata": {},
   "outputs": [
    {
     "data": {
      "text/html": [
       "<div>\n",
       "<style scoped>\n",
       "    .dataframe tbody tr th:only-of-type {\n",
       "        vertical-align: middle;\n",
       "    }\n",
       "\n",
       "    .dataframe tbody tr th {\n",
       "        vertical-align: top;\n",
       "    }\n",
       "\n",
       "    .dataframe thead th {\n",
       "        text-align: right;\n",
       "    }\n",
       "</style>\n",
       "<table border=\"1\" class=\"dataframe\">\n",
       "  <thead>\n",
       "    <tr style=\"text-align: right;\">\n",
       "      <th></th>\n",
       "      <th>id</th>\n",
       "      <th>organization_id</th>\n",
       "      <th>password</th>\n",
       "      <th>login</th>\n",
       "      <th>role</th>\n",
       "      <th>created_at</th>\n",
       "    </tr>\n",
       "  </thead>\n",
       "  <tbody>\n",
       "    <tr>\n",
       "      <th>0</th>\n",
       "      <td>2</td>\n",
       "      <td>2</td>\n",
       "      <td>test</td>\n",
       "      <td>test77</td>\n",
       "      <td>agent</td>\n",
       "      <td>2024-02-23T08:18:45.447773</td>\n",
       "    </tr>\n",
       "    <tr>\n",
       "      <th>1</th>\n",
       "      <td>3</td>\n",
       "      <td>3</td>\n",
       "      <td>test</td>\n",
       "      <td>test07</td>\n",
       "      <td>agent</td>\n",
       "      <td>2024-02-23T08:18:45.447773</td>\n",
       "    </tr>\n",
       "  </tbody>\n",
       "</table>\n",
       "</div>"
      ],
      "text/plain": [
       "   id  organization_id password   login   role                  created_at\n",
       "0   2                2     test  test77  agent  2024-02-23T08:18:45.447773\n",
       "1   3                3     test  test07  agent  2024-02-23T08:18:45.447773"
      ]
     },
     "execution_count": 8,
     "metadata": {},
     "output_type": "execute_result"
    }
   ],
   "source": [
    "users = pd.read_csv(\"../data/csv/API_DATA_DEV - users.csv\")\n",
    "cameras = pd.read_csv(\"../data/csv/API_DATA_DEV - cameras.csv\")\n",
    "users"
   ]
  },
  {
   "cell_type": "markdown",
   "metadata": {},
   "source": [
    "Select user via its login"
   ]
  },
  {
   "cell_type": "code",
   "execution_count": 9,
   "metadata": {},
   "outputs": [
    {
     "data": {
      "text/html": [
       "<div>\n",
       "<style scoped>\n",
       "    .dataframe tbody tr th:only-of-type {\n",
       "        vertical-align: middle;\n",
       "    }\n",
       "\n",
       "    .dataframe tbody tr th {\n",
       "        vertical-align: top;\n",
       "    }\n",
       "\n",
       "    .dataframe thead th {\n",
       "        text-align: right;\n",
       "    }\n",
       "</style>\n",
       "<table border=\"1\" class=\"dataframe\">\n",
       "  <thead>\n",
       "    <tr style=\"text-align: right;\">\n",
       "      <th></th>\n",
       "      <th>id</th>\n",
       "      <th>organization_id</th>\n",
       "      <th>name</th>\n",
       "      <th>angle_of_view</th>\n",
       "      <th>elevation</th>\n",
       "      <th>lat</th>\n",
       "      <th>lon</th>\n",
       "      <th>is_trustable</th>\n",
       "      <th>created_at</th>\n",
       "    </tr>\n",
       "  </thead>\n",
       "  <tbody>\n",
       "    <tr>\n",
       "      <th>0</th>\n",
       "      <td>2</td>\n",
       "      <td>2</td>\n",
       "      <td>videlles-01</td>\n",
       "      <td>54.2</td>\n",
       "      <td>110</td>\n",
       "      <td>48.4783</td>\n",
       "      <td>2.4242</td>\n",
       "      <td>True</td>\n",
       "      <td>2023-11-07T15:07:19.226673</td>\n",
       "    </tr>\n",
       "    <tr>\n",
       "      <th>1</th>\n",
       "      <td>3</td>\n",
       "      <td>2</td>\n",
       "      <td>videlles-02</td>\n",
       "      <td>54.2</td>\n",
       "      <td>110</td>\n",
       "      <td>48.4783</td>\n",
       "      <td>2.4242</td>\n",
       "      <td>True</td>\n",
       "      <td>2023-11-07T15:07:19.226673</td>\n",
       "    </tr>\n",
       "    <tr>\n",
       "      <th>2</th>\n",
       "      <td>4</td>\n",
       "      <td>2</td>\n",
       "      <td>croix-augas-01</td>\n",
       "      <td>54.2</td>\n",
       "      <td>110</td>\n",
       "      <td>48.4267</td>\n",
       "      <td>2.7109</td>\n",
       "      <td>True</td>\n",
       "      <td>2023-11-07T15:07:19.226673</td>\n",
       "    </tr>\n",
       "    <tr>\n",
       "      <th>3</th>\n",
       "      <td>5</td>\n",
       "      <td>2</td>\n",
       "      <td>croix-augas-02</td>\n",
       "      <td>54.2</td>\n",
       "      <td>110</td>\n",
       "      <td>48.4267</td>\n",
       "      <td>2.7109</td>\n",
       "      <td>True</td>\n",
       "      <td>2023-11-07T15:07:19.226673</td>\n",
       "    </tr>\n",
       "    <tr>\n",
       "      <th>4</th>\n",
       "      <td>6</td>\n",
       "      <td>2</td>\n",
       "      <td>moret-sur-loing-01</td>\n",
       "      <td>54.2</td>\n",
       "      <td>110</td>\n",
       "      <td>48.3792</td>\n",
       "      <td>2.8208</td>\n",
       "      <td>True</td>\n",
       "      <td>2023-11-07T15:07:19.226673</td>\n",
       "    </tr>\n",
       "    <tr>\n",
       "      <th>5</th>\n",
       "      <td>7</td>\n",
       "      <td>2</td>\n",
       "      <td>moret-sur-loing-02</td>\n",
       "      <td>54.2</td>\n",
       "      <td>110</td>\n",
       "      <td>48.3792</td>\n",
       "      <td>2.8208</td>\n",
       "      <td>True</td>\n",
       "      <td>2023-11-07T15:07:19.226673</td>\n",
       "    </tr>\n",
       "    <tr>\n",
       "      <th>6</th>\n",
       "      <td>8</td>\n",
       "      <td>2</td>\n",
       "      <td>nemours-01</td>\n",
       "      <td>54.2</td>\n",
       "      <td>110</td>\n",
       "      <td>48.2605</td>\n",
       "      <td>2.7064</td>\n",
       "      <td>True</td>\n",
       "      <td>2023-11-07T15:07:19.226673</td>\n",
       "    </tr>\n",
       "    <tr>\n",
       "      <th>7</th>\n",
       "      <td>9</td>\n",
       "      <td>2</td>\n",
       "      <td>nemours-02</td>\n",
       "      <td>54.2</td>\n",
       "      <td>110</td>\n",
       "      <td>48.2605</td>\n",
       "      <td>2.7064</td>\n",
       "      <td>True</td>\n",
       "      <td>2023-11-07T15:07:19.226673</td>\n",
       "    </tr>\n",
       "  </tbody>\n",
       "</table>\n",
       "</div>"
      ],
      "text/plain": [
       "   id  organization_id                name  angle_of_view  elevation      lat  \\\n",
       "0   2                2         videlles-01           54.2        110  48.4783   \n",
       "1   3                2         videlles-02           54.2        110  48.4783   \n",
       "2   4                2      croix-augas-01           54.2        110  48.4267   \n",
       "3   5                2      croix-augas-02           54.2        110  48.4267   \n",
       "4   6                2  moret-sur-loing-01           54.2        110  48.3792   \n",
       "5   7                2  moret-sur-loing-02           54.2        110  48.3792   \n",
       "6   8                2          nemours-01           54.2        110  48.2605   \n",
       "7   9                2          nemours-02           54.2        110  48.2605   \n",
       "\n",
       "      lon  is_trustable                  created_at  \n",
       "0  2.4242          True  2023-11-07T15:07:19.226673  \n",
       "1  2.4242          True  2023-11-07T15:07:19.226673  \n",
       "2  2.7109          True  2023-11-07T15:07:19.226673  \n",
       "3  2.7109          True  2023-11-07T15:07:19.226673  \n",
       "4  2.8208          True  2023-11-07T15:07:19.226673  \n",
       "5  2.8208          True  2023-11-07T15:07:19.226673  \n",
       "6  2.7064          True  2023-11-07T15:07:19.226673  \n",
       "7  2.7064          True  2023-11-07T15:07:19.226673  "
      ]
     },
     "execution_count": 9,
     "metadata": {},
     "output_type": "execute_result"
    }
   ],
   "source": [
    "user = \"test77\"\n",
    "organization_id = users[users[\"login\"]==user][\"organization_id\"].item()\n",
    "\n",
    "user_cameras = cameras[cameras[\"organization_id\"]==organization_id]\n",
    "user_cameras"
   ]
  },
  {
   "cell_type": "markdown",
   "metadata": {},
   "source": [
    "# Send some alerts\n",
    "Download a file containing relevant images and predictions, then send alerts to selected cameras (with a random azimuth)."
   ]
  },
  {
   "cell_type": "code",
   "execution_count": null,
   "metadata": {},
   "outputs": [],
   "source": []
  },
  {
   "cell_type": "code",
   "execution_count": 10,
   "metadata": {},
   "outputs": [],
   "source": [
    "send_alert_from_cam_ids = [2, 4, 5, 7] # select cameras"
   ]
  },
  {
   "cell_type": "code",
   "execution_count": 14,
   "metadata": {},
   "outputs": [],
   "source": [
    "if not os.path.isdir(\"selection-true-positives\"):\n",
    "    print(\"Images not found, dowloading ...\")\n",
    "    url = \"https://github.com/pyronear/pyro-envdev/releases/download/v0.0.1/selection-true-positives.zip\"\n",
    "    output_path = \"selection-true-positives.zip\"\n",
    "\n",
    "    response = requests.get(url, stream=True)\n",
    "    response.raise_for_status()  # Raises an error for bad status codes\n",
    "\n",
    "    with open(output_path, 'wb') as f:\n",
    "        for chunk in response.iter_content(chunk_size=8192):\n",
    "            f.write(chunk)\n",
    "\n",
    "    zip_path = \"selection-true-positives.zip\"\n",
    "    extract_dir = \"selection-true-positives\"  # Current directory\n",
    "\n",
    "    shutil.unpack_archive(zip_path, extract_dir, 'zip')\n",
    "\n",
    "    print(\"Extraction completed.\")\n",
    "\n",
    "    "
   ]
  },
  {
   "cell_type": "code",
   "execution_count": 15,
   "metadata": {},
   "outputs": [
    {
     "data": {
      "text/plain": [
       "12"
      ]
     },
     "execution_count": 15,
     "metadata": {},
     "output_type": "execute_result"
    }
   ],
   "source": [
    "sequances_folders = glob.glob(\"selection-true-positives/*\")\n",
    "len(sequances_folders)"
   ]
  },
  {
   "cell_type": "code",
   "execution_count": 18,
   "metadata": {},
   "outputs": [
    {
     "name": "stdout",
     "output_type": "stream",
     "text": [
      "Sending alerts from camera 2 at azimuth 272\n",
      "Sending alerts from camera 4 at azimuth 160\n",
      "Sending alerts from camera 5 at azimuth 210\n",
      "Sending alerts from camera 7 at azimuth 135\n"
     ]
    }
   ],
   "source": [
    "for camera_id in send_alert_from_cam_ids:\n",
    "    \n",
    "    camera_token = get_camera_token(API_URL, camera_id, admin_access_token)\n",
    "    camera_client  = Client(camera_token, API_URL)\n",
    "\n",
    "    sequances_folder = sequances_folders[camera_id]\n",
    "\n",
    "    imgs = glob.glob(f\"{sequances_folder}/images/*\")\n",
    "    imgs.sort()\n",
    "    preds = glob.glob(f\"{sequances_folder}/labels_predictions/*\")\n",
    "    preds.sort()\n",
    "\n",
    "    cam_center_azimuth = random.randint(0,360)\n",
    "    print(f\"Sending alerts from camera {camera_id} at azimuth {cam_center_azimuth}\")\n",
    "    for img_file, pred_file in zip(imgs, preds):\n",
    "    \n",
    "        stream = io.BytesIO()\n",
    "        im = Image.open(img_file)\n",
    "        im.save(stream, format=\"JPEG\", quality=80)\n",
    "\n",
    "        bboxes = read_pred_file(pred_file)\n",
    "        response = camera_client.create_detection(stream.getvalue(), cam_center_azimuth, bboxes)\n",
    "        # Force a KeyError if the request failed\n",
    "        \n",
    "        response.json()[\"id\"]"
   ]
  },
  {
   "cell_type": "markdown",
   "metadata": {},
   "source": [
    "# Create 2 sequences that triangulate\n",
    "Download a file containning 2 alerts from 2 cameras that triangulate, then it send alerts to the api. "
   ]
  },
  {
   "cell_type": "code",
   "execution_count": 8,
   "metadata": {},
   "outputs": [
    {
     "name": "stdout",
     "output_type": "stream",
     "text": [
      "Images not found, dowloading ...\n",
      "Extraction completed.\n"
     ]
    }
   ],
   "source": [
    "if not os.path.isdir(\"triangulated_sequences\"):\n",
    "    print(\"Images not found, dowloading ...\")\n",
    "    output_path = \"triangulated_sequences.zip\"\n",
    "\n",
    "    url = \"https://github.com/pyronear/pyro-envdev/releases/download/v0.0.1/\"+\"triangulated_sequences.zip\"\n",
    "\n",
    "    response = requests.get(url, stream=True)\n",
    "    response.raise_for_status()  # Raises an error for bad status codes\n",
    "\n",
    "    with open(output_path, 'wb') as f:\n",
    "        for chunk in response.iter_content(chunk_size=8192):\n",
    "            f.write(chunk)\n",
    "\n",
    "    zip_path = output_path\n",
    "    extract_dir = \"triangulated_sequences\"  # Current directory\n",
    "\n",
    "    shutil.unpack_archive(zip_path, extract_dir, 'zip')\n",
    "\n",
    "    print(\"Extraction completed.\")"
   ]
  },
  {
   "cell_type": "code",
   "execution_count": 9,
   "metadata": {},
   "outputs": [
    {
     "name": "stdout",
     "output_type": "stream",
     "text": [
      "Creating sequences from camera 12 at azimuth 226\n",
      "Creating sequences from camera 13 at azimuth 54\n"
     ]
    }
   ],
   "source": [
    "cam_triangulation = {\n",
    "    \"12\": {\n",
    "        \"azimuth\": 226,\n",
    "        \"path\": \"triangulated_sequences/brison-03\"\n",
    "    },\n",
    "    \"13\": {\n",
    "        \"azimuth\": 54,\n",
    "        \"path\": \"triangulated_sequences/serre-de-barre-01\"\n",
    "    }\n",
    "}\n",
    "\n",
    "for id, info in cam_triangulation.items():\n",
    "\n",
    "    camera_id = id\n",
    "    \n",
    "    camera_token = get_camera_token(API_URL, camera_id, admin_access_token)\n",
    "    camera_client  = Client(camera_token, API_URL)\n",
    "\n",
    "    seq_folder = info[\"path\"]\n",
    "\n",
    "    imgs = glob.glob(f\"{seq_folder}/images/*\")\n",
    "    imgs.sort()\n",
    "    preds = glob.glob(f\"{seq_folder}/labels_predictions/*\")\n",
    "    preds.sort()\n",
    "\n",
    "    cam_center_azimuth = info[\"azimuth\"]\n",
    "    print(f\"Creating sequences from camera {camera_id} at azimuth {cam_center_azimuth}\")\n",
    "\n",
    "    for img_file, pred_file in zip(imgs, preds):\n",
    "    \n",
    "        stream = io.BytesIO()\n",
    "        im = Image.open(img_file)\n",
    "        im.save(stream, format=\"JPEG\", quality=80)\n",
    "\n",
    "        with open(pred_file, 'r') as file:\n",
    "            bboxes = file.read()\n",
    "\n",
    "        response = camera_client.create_detection(stream.getvalue(), cam_center_azimuth, eval(bboxes))\n",
    "        \n",
    "        time.sleep(1)\n",
    "        # Force a KeyError if the request failed\n",
    "        response.json()[\"id\"]"
   ]
  }
 ],
 "metadata": {
  "kernelspec": {
   "display_name": "Python 3 (ipykernel)",
   "language": "python",
   "name": "python3"
  },
  "language_info": {
   "codemirror_mode": {
    "name": "ipython",
    "version": 3
   },
   "file_extension": ".py",
   "mimetype": "text/x-python",
   "name": "python",
   "nbconvert_exporter": "python",
   "pygments_lexer": "ipython3",
   "version": "3.8.20"
  }
 },
 "nbformat": 4,
 "nbformat_minor": 4
}
